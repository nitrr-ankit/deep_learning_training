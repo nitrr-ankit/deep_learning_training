{
  "nbformat": 4,
  "nbformat_minor": 0,
  "metadata": {
    "colab": {
      "name": "Untitled1.ipynb",
      "provenance": [],
      "collapsed_sections": [],
      "authorship_tag": "ABX9TyMwMpKA/E1dP7EQGNAAbPNn",
      "include_colab_link": true
    },
    "kernelspec": {
      "name": "python3",
      "display_name": "Python 3"
    },
    "language_info": {
      "name": "python"
    }
  },
  "cells": [
    {
      "cell_type": "markdown",
      "metadata": {
        "id": "view-in-github",
        "colab_type": "text"
      },
      "source": [
        "<a href=\"https://colab.research.google.com/github/nitrr-ankit/deep_learning_training/blob/main/mnist_test.ipynb\" target=\"_parent\"><img src=\"https://colab.research.google.com/assets/colab-badge.svg\" alt=\"Open In Colab\"/></a>"
      ]
    },
    {
      "cell_type": "markdown",
      "source": [
        "import necessary libraries"
      ],
      "metadata": {
        "id": "Y4P9JGkQXrDO"
      }
    },
    {
      "cell_type": "code",
      "source": [
        "import tensorflow as tf\n",
        "import numpy as np\n",
        "import pandas as pd\n",
        "from sklearn.model_selection import train_test_split\n",
        "from sklearn import metrics"
      ],
      "metadata": {
        "id": "JLz-dypbXtIc"
      },
      "execution_count": 28,
      "outputs": []
    },
    {
      "cell_type": "markdown",
      "source": [
        "Load dataset"
      ],
      "metadata": {
        "id": "929mLdLCX0oD"
      }
    },
    {
      "cell_type": "code",
      "source": [
        "df = pd.read_csv('/content/sample_data/mnist_train_small.csv', header = None)"
      ],
      "metadata": {
        "id": "fhqLo-AzXz8f"
      },
      "execution_count": 29,
      "outputs": []
    },
    {
      "cell_type": "markdown",
      "source": [
        "Explore dataset"
      ],
      "metadata": {
        "id": "98nHFc7oabNV"
      }
    },
    {
      "cell_type": "code",
      "source": [
        "features = df.iloc[:, 1:-1]\n",
        "labels = df.iloc[:, 0]\n"
      ],
      "metadata": {
        "id": "zJVs1pt8ackp"
      },
      "execution_count": 31,
      "outputs": []
    },
    {
      "cell_type": "markdown",
      "source": [
        "Split data into training and test set"
      ],
      "metadata": {
        "id": "f0_d1q0Es46x"
      }
    },
    {
      "cell_type": "code",
      "source": [
        "x_train, x_test, y_train, y_test = train_test_split(features, labels, test_size = 0.3)"
      ],
      "metadata": {
        "id": "n4DJ4KRes7oU"
      },
      "execution_count": 32,
      "outputs": []
    },
    {
      "cell_type": "markdown",
      "source": [
        "Define a model"
      ],
      "metadata": {
        "id": "reoAhBmGuFnY"
      }
    },
    {
      "cell_type": "code",
      "source": [
        "model = tf.keras.models.Sequential([\n",
        "  tf.keras.layers.Dense(128, activation='relu'),\n",
        "  tf.keras.layers.Dropout(0.2),\n",
        "  tf.keras.layers.Dense(10, activation='softmax')\n",
        "])"
      ],
      "metadata": {
        "id": "WEVVE_54uJFX"
      },
      "execution_count": 36,
      "outputs": []
    },
    {
      "cell_type": "markdown",
      "source": [
        "Configure model"
      ],
      "metadata": {
        "id": "U8UYdEeIuhjf"
      }
    },
    {
      "cell_type": "code",
      "source": [
        "model.compile(optimizer='adam',\n",
        "              loss='sparse_categorical_crossentropy',\n",
        "              metrics=['accuracy'])\n"
      ],
      "metadata": {
        "id": "dYhQGFtyujbn"
      },
      "execution_count": 37,
      "outputs": []
    },
    {
      "cell_type": "markdown",
      "source": [
        "Train the model"
      ],
      "metadata": {
        "id": "DSEvSnPJulAl"
      }
    },
    {
      "cell_type": "code",
      "source": [
        "model.fit(x_train, y_train, epochs=10)\n",
        "model.evaluate(x_test, y_test)"
      ],
      "metadata": {
        "colab": {
          "base_uri": "https://localhost:8080/"
        },
        "id": "9n7GtehTumu1",
        "outputId": "31fcaabb-7485-46f6-8ead-bf23de5b22b0"
      },
      "execution_count": 39,
      "outputs": [
        {
          "output_type": "stream",
          "name": "stdout",
          "text": [
            "Epoch 1/10\n",
            "438/438 [==============================] - 1s 2ms/step - loss: 0.4989 - accuracy: 0.8642\n",
            "Epoch 2/10\n",
            "438/438 [==============================] - 1s 2ms/step - loss: 0.4700 - accuracy: 0.8766\n",
            "Epoch 3/10\n",
            "438/438 [==============================] - 1s 3ms/step - loss: 0.4369 - accuracy: 0.8821\n",
            "Epoch 4/10\n",
            "438/438 [==============================] - 1s 2ms/step - loss: 0.4265 - accuracy: 0.8854\n",
            "Epoch 5/10\n",
            "438/438 [==============================] - 1s 2ms/step - loss: 0.4143 - accuracy: 0.8922\n",
            "Epoch 6/10\n",
            "438/438 [==============================] - 1s 2ms/step - loss: 0.4007 - accuracy: 0.8928\n",
            "Epoch 7/10\n",
            "438/438 [==============================] - 1s 2ms/step - loss: 0.3841 - accuracy: 0.9015\n",
            "Epoch 8/10\n",
            "438/438 [==============================] - 1s 2ms/step - loss: 0.3692 - accuracy: 0.9009\n",
            "Epoch 9/10\n",
            "438/438 [==============================] - 1s 2ms/step - loss: 0.3457 - accuracy: 0.9086\n",
            "Epoch 10/10\n",
            "438/438 [==============================] - 1s 2ms/step - loss: 0.3324 - accuracy: 0.9137\n",
            "188/188 [==============================] - 0s 2ms/step - loss: 0.4317 - accuracy: 0.9248\n"
          ]
        },
        {
          "output_type": "execute_result",
          "data": {
            "text/plain": [
              "[0.4316888153553009, 0.924833357334137]"
            ]
          },
          "metadata": {},
          "execution_count": 39
        }
      ]
    }
  ]
}